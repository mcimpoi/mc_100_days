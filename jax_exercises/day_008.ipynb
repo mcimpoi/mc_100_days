{
 "cells": [
  {
   "cell_type": "markdown",
   "metadata": {},
   "source": [
    "https://www.deep-ml.com/problems/1"
   ]
  },
  {
   "cell_type": "code",
   "execution_count": null,
   "metadata": {},
   "outputs": [
    {
     "name": "stdout",
     "output_type": "stream",
     "text": [
      "[ 5 11]\n"
     ]
    }
   ],
   "source": [
    "import jax\n",
    "import jax.numpy as jnp\n",
    "\n",
    "def matrix_dot_vector_py(matrix: list[list[int|float]], vector: list[int|float]) -> list[int|float]:\n",
    "    if len(matrix[0]) != len(vector):\n",
    "        return -1\n",
    "    res = [0 for _ in range(len(matrix))]\n",
    "    for i, row in enumerate(matrix):\n",
    "        for j, val in enumerate(row):\n",
    "            res[i] += val * vector[j]\n",
    "    return res\n",
    "\n",
    "def matrix_dot_vector_jax(matrix: jnp.ndarray, vector: jnp.ndarray) -> jnp.ndarray:\n",
    "    return matrix @ vector\n",
    "\n",
    "print(matrix_dot_vector_jax(jnp.array([[1, 2], [3, 4]]), jnp.array([1, 2])))\n"
   ]
  },
  {
   "cell_type": "code",
   "execution_count": 7,
   "metadata": {},
   "outputs": [
    {
     "name": "stdout",
     "output_type": "stream",
     "text": [
      "[[1 3]\n",
      " [2 4]]\n",
      "[[1, 3], [2, 4]]\n"
     ]
    }
   ],
   "source": [
    "# https://www.deep-ml.com/problems/2\n",
    "# Transpose of a matrix\n",
    "\n",
    "def transpose_matrix(mat: list[list[int|float]]) -> list[list[int|float]]:\n",
    "    res = [[0 for _ in range(len(mat))] for _ in range(len(mat[0]))]\n",
    "    for i in range(len(mat)):\n",
    "        for j in range(len(mat[0])):\n",
    "            res[j][i] = mat[i][j]\n",
    "    return res\n",
    "\n",
    "def transpose_matrix_jax(mat: jnp.ndarray) -> jnp.ndarray:\n",
    "    return mat.T\n",
    "\n",
    "print(transpose_matrix_jax(jnp.array([[1, 2], [3, 4]])))\n",
    "print(transpose_matrix([[1, 2], [3, 4]]))\n"
   ]
  },
  {
   "cell_type": "code",
   "execution_count": 12,
   "metadata": {},
   "outputs": [
    {
     "name": "stdout",
     "output_type": "stream",
     "text": [
      "[3.0, 1.0]\n",
      "jnp.linalg.eigvals(jnp.array([[2, 1], [1, 2]]))=Array([3.+0.j, 1.+0.j], dtype=complex64)\n"
     ]
    }
   ],
   "source": [
    "# https://www.deep-ml.com/problems/6\n",
    "import numpy as np \n",
    "\n",
    "def calculate_eigenvalues(matrix: list[list[float|int]]) -> list[float]:\n",
    "    a11, a12, a21, a22 = matrix[0][0], matrix[0][1], matrix[1][0], matrix[1][1]\n",
    "    delta = (a11 + a22)**2 - 4*(a11*a22 - a12*a21)\n",
    "    return [(a11 + a22 + delta **0.5)/2, (a11 + a22 - delta ** 0.5)/2]\n",
    "\n",
    "print(calculate_eigenvalues([[2, 1], [1, 2]]))\n",
    "\n",
    "np.linalg.eigvals([[2, 1], [1, 2]])\n",
    "print(f\"{jnp.linalg.eigvals(jnp.array([[2, 1], [1, 2]]))=}\")\n"
   ]
  },
  {
   "cell_type": "markdown",
   "metadata": {},
   "source": [
    "to compute eigenvectors, we replace the values for lambda in the eqn: (A - lambda1 I)v1 = [0; 0] and (A - lambda2 I)v2 = [0; 0] \n",
    "--> we get relationship between v11 and v12; and v21 and v22 respectively"
   ]
  },
  {
   "cell_type": "code",
   "execution_count": null,
   "metadata": {},
   "outputs": [],
   "source": []
  }
 ],
 "metadata": {
  "kernelspec": {
   "display_name": ".venv",
   "language": "python",
   "name": "python3"
  },
  "language_info": {
   "codemirror_mode": {
    "name": "ipython",
    "version": 3
   },
   "file_extension": ".py",
   "mimetype": "text/x-python",
   "name": "python",
   "nbconvert_exporter": "python",
   "pygments_lexer": "ipython3",
   "version": "3.12.3"
  }
 },
 "nbformat": 4,
 "nbformat_minor": 2
}
