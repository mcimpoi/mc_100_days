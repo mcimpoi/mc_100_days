{
 "cells": [
  {
   "cell_type": "markdown",
   "metadata": {},
   "source": [
    "From https://github.com/vopani/jaxton/blob/main/notebooks/05_control_flows_exercises.ipynb\n",
    "\n",
    "# TODO: read Blelloch, Guy E. 1990. “Prefix Sums and Their Applications.”, Technical Report CMU-CS-90-190, School of Computer Science, Carnegie Mellon University."
   ]
  },
  {
   "cell_type": "code",
   "execution_count": 20,
   "metadata": {},
   "outputs": [],
   "source": [
    "import jax\n",
    "import jax.numpy as jnp\n",
    "from jax import lax\n"
   ]
  },
  {
   "cell_type": "code",
   "execution_count": 21,
   "metadata": {},
   "outputs": [
    {
     "data": {
      "text/plain": [
       "8"
      ]
     },
     "execution_count": 21,
     "metadata": {},
     "output_type": "execute_result"
    }
   ],
   "source": [
    "# prereq;\n",
    "\n",
    "## sample data\n",
    "sample_data = jnp.array([10, 1, 24, 20, 15, 14])\n",
    "sample_data\n",
    "\n",
    "\n",
    "## sample square function\n",
    "def square(x):\n",
    "    return x**2\n",
    "\n",
    "\n",
    "## sample cube function\n",
    "def cube(x):\n",
    "    return x**3\n",
    "\n",
    "\n",
    "cube(2)\n"
   ]
  },
  {
   "cell_type": "markdown",
   "metadata": {},
   "source": [
    "Exercise 41: Calculate the cumulative sum of sample_data using the associative scan operator and assign it to data_cumsum\n",
    "\n",
    "Exercise 42: Calculate the cumulative sum of sample_data in reverse order using the associative scan operator and assign it to data_cumsum_reverse"
   ]
  },
  {
   "cell_type": "code",
   "execution_count": 22,
   "metadata": {},
   "outputs": [
    {
     "name": "stdout",
     "output_type": "stream",
     "text": [
      "lax.associative_scan(jnp.add, sample_data)=Array([10, 11, 35, 55, 70, 84], dtype=int32)\n",
      "lax.associative_scan(jnp.multiply, sample_data, reverse=True)=Array([1008000,  100800,  100800,    4200,     210,      14], dtype=int32),\n",
      "data_cumsum=Array([10, 11, 35, 55, 70, 84], dtype=int32)\n",
      "data_cumsum_reverse=Array([84, 74, 73, 49, 29, 14], dtype=int32)\n"
     ]
    }
   ],
   "source": [
    "print(f\"{lax.associative_scan(jnp.add, sample_data)=}\")\n",
    "print(f\"{lax.associative_scan(jnp.multiply, sample_data, reverse=True)=},\")\n",
    "\n",
    "data_cumsum = lax.associative_scan(jnp.add, sample_data)\n",
    "print(f\"{data_cumsum=}\")\n",
    "\n",
    "data_cumsum_reverse = lax.associative_scan(jnp.add, sample_data, reverse=True)\n",
    "print(f\"{data_cumsum_reverse=}\")"
   ]
  },
  {
   "cell_type": "markdown",
   "metadata": {},
   "source": [
    "Exercise 43: Create a JIT-compiled lambda function that outputs square of input if it is even and cube of input if it is odd using the cond operator and assign it to parity_ifelse"
   ]
  },
  {
   "cell_type": "code",
   "execution_count": 23,
   "metadata": {},
   "outputs": [
    {
     "name": "stdout",
     "output_type": "stream",
     "text": [
      "parity_ifelse(2)=Array(4, dtype=int32, weak_type=True) parity_ifelse(3)=Array(27, dtype=int32, weak_type=True)\n"
     ]
    }
   ],
   "source": [
    "parity_ifelse = jax.jit(lambda x: jax.lax.cond(x % 2 == 0, square, cube, x))\n",
    "print(f\"{parity_ifelse(2)=} {parity_ifelse(3)=}\")"
   ]
  },
  {
   "cell_type": "markdown",
   "metadata": {},
   "source": [
    "Exercise 44: Run parity_ifelse with the first element of data_cumsum and assign it to parity_1\n",
    "\n"
   ]
  },
  {
   "cell_type": "code",
   "execution_count": 24,
   "metadata": {},
   "outputs": [
    {
     "name": "stdout",
     "output_type": "stream",
     "text": [
      "parity_1=Array(100, dtype=int32)\n"
     ]
    }
   ],
   "source": [
    "parity_1 = parity_ifelse(data_cumsum[0])\n",
    "print(f\"{parity_1=}\")"
   ]
  },
  {
   "cell_type": "markdown",
   "metadata": {},
   "source": [
    "Exercise 45: Run parity_ifelse with the second element of data_cumsum and assign it to parity_2"
   ]
  },
  {
   "cell_type": "code",
   "execution_count": 25,
   "metadata": {},
   "outputs": [
    {
     "name": "stdout",
     "output_type": "stream",
     "text": [
      "parity_2=Array(1331, dtype=int32)\n"
     ]
    }
   ],
   "source": [
    "parity_2 = parity_ifelse(data_cumsum[1])\n",
    "print(f\"{parity_2=}\")"
   ]
  },
  {
   "cell_type": "markdown",
   "metadata": {},
   "source": [
    "Exercise 46: Create a JIT-compiled lambda function that outputs square of input if it is even and cube of input if it is odd using the switch operator and assign it to parity_switch\n"
   ]
  },
  {
   "cell_type": "code",
   "execution_count": 26,
   "metadata": {},
   "outputs": [
    {
     "name": "stdout",
     "output_type": "stream",
     "text": [
      "parity_switch(2)=Array(4, dtype=int32, weak_type=True) parity_switch(3)=Array(27, dtype=int32, weak_type=True)\n"
     ]
    }
   ],
   "source": [
    "parity_switch = jax.jit(lambda x: jax.lax.switch(x % 2, [square, cube], x))\n",
    "print(f\"{parity_switch(2)=} {parity_switch(3)=}\")"
   ]
  },
  {
   "cell_type": "markdown",
   "metadata": {},
   "source": [
    "Exercise 47: Run parity_switch with the fourth element of data_cumsum and assign it to parity_4\n",
    "\n",
    "Exercise 48: Run parity_switch with the fifth element of data_cumsum and assign it to parity_5"
   ]
  },
  {
   "cell_type": "code",
   "execution_count": 27,
   "metadata": {},
   "outputs": [
    {
     "name": "stdout",
     "output_type": "stream",
     "text": [
      "parity_4=Array(166375, dtype=int32)\n",
      "parity_5=Array(4900, dtype=int32)\n"
     ]
    }
   ],
   "source": [
    "parity_4 = parity_switch(data_cumsum[3])\n",
    "print(f\"{parity_4=}\")\n",
    "\n",
    "parity_5 = parity_switch(data_cumsum[4])\n",
    "print(f\"{parity_5=}\")\n"
   ]
  },
  {
   "cell_type": "markdown",
   "metadata": {},
   "source": [
    "Exercise 49: Calculate the sum of the first four elements of data_cumsum using the for operator and assign it to sum_four"
   ]
  },
  {
   "cell_type": "code",
   "execution_count": 29,
   "metadata": {},
   "outputs": [
    {
     "name": "stdout",
     "output_type": "stream",
     "text": [
      "sum_four=Array(111, dtype=int32)\n",
      "expected: 111\n"
     ]
    }
   ],
   "source": [
    "sum_four = jax.lax.fori_loop(0, 4, lambda i, acc: acc + data_cumsum[i], 0)\n",
    "print(f\"{sum_four=}\")\n",
    "print(f\"expected: {jnp.sum(data_cumsum[:4])}\")"
   ]
  },
  {
   "cell_type": "markdown",
   "metadata": {},
   "source": [
    "Exercise 50: Keep subtracting 25 from sum_four until the result is negative using the while operator and assign it to subtract_until_negative"
   ]
  },
  {
   "cell_type": "code",
   "execution_count": 30,
   "metadata": {},
   "outputs": [
    {
     "name": "stdout",
     "output_type": "stream",
     "text": [
      "subtract_until_negative=Array(-14, dtype=int32)\n"
     ]
    }
   ],
   "source": [
    "subtract_until_negative = jax.lax.while_loop(lambda x: x > 0, lambda x: x - 25, sum_four)\n",
    "print(f\"{subtract_until_negative=}\")"
   ]
  }
 ],
 "metadata": {
  "kernelspec": {
   "display_name": ".venv",
   "language": "python",
   "name": "python3"
  },
  "language_info": {
   "codemirror_mode": {
    "name": "ipython",
    "version": 3
   },
   "file_extension": ".py",
   "mimetype": "text/x-python",
   "name": "python",
   "nbconvert_exporter": "python",
   "pygments_lexer": "ipython3",
   "version": "3.12.3"
  }
 },
 "nbformat": 4,
 "nbformat_minor": 2
}
