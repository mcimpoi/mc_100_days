{
 "cells": [
  {
   "cell_type": "markdown",
   "id": "34348cfe",
   "metadata": {},
   "source": [
    "From: https://uvadlc-notebooks.readthedocs.io/en/latest/tutorial_notebooks/JAX/tutorial2/Introduction_to_JAX.html\n"
   ]
  },
  {
   "cell_type": "code",
   "execution_count": null,
   "id": "484bcc24",
   "metadata": {},
   "outputs": [],
   "source": [
    "import jax\n",
    "import jax.numpy as jnp\n",
    "\n",
    "import numpy as np"
   ]
  },
  {
   "cell_type": "code",
   "execution_count": null,
   "id": "e72abf95",
   "metadata": {},
   "outputs": [],
   "source": [
    "print(f\"Using jax: {jax.__version__}\")"
   ]
  },
  {
   "cell_type": "code",
   "execution_count": null,
   "id": "8f027abf",
   "metadata": {},
   "outputs": [],
   "source": [
    "a = jnp.zeros((2, 5), dtype=jnp.float32)\n",
    "print(f\"{a=}\")\n",
    "\n",
    "b = jnp.arange(6)\n",
    "print(f\"{b=}\")\n",
    "print(f\"{b.__class__=} {b.dtype=} {b.device=}\")\n"
   ]
  },
  {
   "cell_type": "code",
   "execution_count": null,
   "id": "0ebfb436",
   "metadata": {},
   "outputs": [],
   "source": [
    "b_cpu = jax.device_get(b)\n",
    "print(f\"{b_cpu=}, {b_cpu.__class__=} {b_cpu.dtype=} {b_cpu.device=}\")\n",
    "\n",
    "b_gpu = jax.device_put(b_cpu)\n",
    "print(f\"{b_gpu=}, {b_gpu.__class__=} {b_gpu.dtype=} {b_gpu.device=}\")\n",
    "\n",
    "b_cpu + b_gpu"
   ]
  },
  {
   "cell_type": "code",
   "execution_count": null,
   "id": "fc445bdb",
   "metadata": {},
   "outputs": [],
   "source": [
    "jax.devices()"
   ]
  },
  {
   "cell_type": "code",
   "execution_count": null,
   "id": "a100cd45",
   "metadata": {},
   "outputs": [],
   "source": [
    "b_new = b.at[0].set(1)\n",
    "print(f\"{b=}, {b_new=}\")"
   ]
  },
  {
   "cell_type": "code",
   "execution_count": null,
   "id": "74a727f5",
   "metadata": {},
   "outputs": [],
   "source": [
    "# pseudo random number generation\n",
    "rng = jax.random.key(42) # equivalent to jax.random.PRNGKey(0)\n",
    "jax_random_number_1, jax_random_number_2 = jax.random.normal(rng), jax.random.normal(rng)\n",
    "print(f\"{jax_random_number_1=}, {jax_random_number_2=}\")\n",
    "\n",
    "# random number in numpy\n",
    "np_random_number_1, np_random_number_2 = np.random.normal(size=2)\n",
    "print(f\"{np_random_number_1=}, {np_random_number_2=}\")\n",
    "\n",
    "# for different random number every time we sample, split the key:\n",
    "rng, subkey1, subkey2 = jax.random.split(rng, num=3)\n",
    "jax_random_number_3 = jax.random.normal(subkey1, shape=(1,))\n",
    "jax_random_number_4 = jax.random.normal(subkey2, shape=(1,))\n",
    "print(f\"{jax_random_number_3=}, {jax_random_number_4=}\")"
   ]
  },
  {
   "cell_type": "code",
   "execution_count": null,
   "id": "58e9ce5c",
   "metadata": {},
   "outputs": [],
   "source": [
    "# function transformation with jaxpr\n",
    "def simple_graph(x):\n",
    "    x = x + 2\n",
    "    x = x ** 2\n",
    "    x = x + 3\n",
    "    y = x.mean()\n",
    "    return y\n",
    "\n",
    "input_array = jnp.arange(10, dtype=jnp.float32)\n",
    "print(f\"{input_array=}, output: {simple_graph(input_array)=}\")\n",
    "jaxpr = jax.make_jaxpr(simple_graph)(input_array)\n",
    "print(f\"{jaxpr=}\")"
   ]
  },
  {
   "cell_type": "code",
   "execution_count": null,
   "id": "d493d4b2",
   "metadata": {},
   "outputs": [],
   "source": [
    "global_list = []\n",
    "\n",
    "def norm(x):\n",
    "    global global_list\n",
    "    global_list.append(x)\n",
    "    return jnp.linalg.norm(x)\n",
    "# watch out for the global variable, it will not be captured in jax\n",
    "jaxpr_norm = jax.make_jaxpr(norm)(input_array)\n",
    "print(f\"{jaxpr_norm=}\")"
   ]
  },
  {
   "cell_type": "code",
   "execution_count": null,
   "id": "234a06b1",
   "metadata": {},
   "outputs": [],
   "source": [
    "# TODO: automatic differentiation\n",
    "\n",
    "grad_function = jax.grad(simple_graph)\n",
    "gradients = grad_function(input_array)\n",
    "print(f\"Gradients of {simple_graph.__name__} at {input_array=}: {gradients=}\")"
   ]
  },
  {
   "cell_type": "code",
   "execution_count": null,
   "id": "ed6b7d00",
   "metadata": {},
   "outputs": [],
   "source": [
    "jax.make_jaxpr(grad_function)(input_array)"
   ]
  },
  {
   "cell_type": "code",
   "execution_count": null,
   "id": "8185042e",
   "metadata": {},
   "outputs": [],
   "source": [
    "jitted_function = jax.jit(simple_graph)\n",
    "rng, normal_rng = jax.random.split(rng)\n",
    "large_input = jax.random.normal(normal_rng, shape=(1000, ))\n",
    "_ = jitted_function(large_input)"
   ]
  },
  {
   "cell_type": "code",
   "execution_count": null,
   "id": "7d4cdb15",
   "metadata": {},
   "outputs": [],
   "source": [
    "%%timeit \n",
    "simple_graph(large_input).block_until_ready()"
   ]
  },
  {
   "cell_type": "code",
   "execution_count": null,
   "id": "ed8402d2",
   "metadata": {},
   "outputs": [],
   "source": [
    "%%timeit\n",
    "jitted_function(large_input).block_until_ready()"
   ]
  },
  {
   "cell_type": "code",
   "execution_count": null,
   "id": "970b5a7e",
   "metadata": {},
   "outputs": [],
   "source": []
  }
 ],
 "metadata": {
  "kernelspec": {
   "display_name": ".venv",
   "language": "python",
   "name": "python3"
  },
  "language_info": {
   "codemirror_mode": {
    "name": "ipython",
    "version": 3
   },
   "file_extension": ".py",
   "mimetype": "text/x-python",
   "name": "python",
   "nbconvert_exporter": "python",
   "pygments_lexer": "ipython3",
   "version": "3.12.3"
  }
 },
 "nbformat": 4,
 "nbformat_minor": 5
}
