{
 "cells": [
  {
   "cell_type": "markdown",
   "id": "34348cfe",
   "metadata": {},
   "source": [
    "From: https://uvadlc-notebooks.readthedocs.io/en/latest/tutorial_notebooks/JAX/tutorial2/Introduction_to_JAX.html\n"
   ]
  },
  {
   "cell_type": "code",
   "execution_count": 16,
   "id": "484bcc24",
   "metadata": {},
   "outputs": [],
   "source": [
    "import jax\n",
    "import jax.numpy as jnp\n",
    "\n",
    "import numpy as np"
   ]
  },
  {
   "cell_type": "code",
   "execution_count": 2,
   "id": "e72abf95",
   "metadata": {},
   "outputs": [
    {
     "name": "stdout",
     "output_type": "stream",
     "text": [
      "Using jax: 0.6.1\n"
     ]
    }
   ],
   "source": [
    "print(f\"Using jax: {jax.__version__}\")"
   ]
  },
  {
   "cell_type": "code",
   "execution_count": 7,
   "id": "8f027abf",
   "metadata": {},
   "outputs": [
    {
     "name": "stdout",
     "output_type": "stream",
     "text": [
      "a=Array([[0., 0., 0., 0., 0.],\n",
      "       [0., 0., 0., 0., 0.]], dtype=float32)\n",
      "b=Array([0, 1, 2, 3, 4, 5], dtype=int32)\n",
      "b.__class__=<class 'jaxlib._jax.ArrayImpl'> b.dtype=dtype('int32') b.device=CudaDevice(id=0)\n"
     ]
    }
   ],
   "source": [
    "a = jnp.zeros((2, 5), dtype=jnp.float32)\n",
    "print(f\"{a=}\")\n",
    "\n",
    "b = jnp.arange(6)\n",
    "print(f\"{b=}\")\n",
    "print(f\"{b.__class__=} {b.dtype=} {b.device=}\")\n"
   ]
  },
  {
   "cell_type": "code",
   "execution_count": 11,
   "id": "0ebfb436",
   "metadata": {},
   "outputs": [
    {
     "name": "stdout",
     "output_type": "stream",
     "text": [
      "b_cpu=array([0, 1, 2, 3, 4, 5], dtype=int32), b_cpu.__class__=<class 'numpy.ndarray'> b_cpu.dtype=dtype('int32') b_cpu.device='cpu'\n",
      "b_gpu=Array([0, 1, 2, 3, 4, 5], dtype=int32), b_gpu.__class__=<class 'jaxlib._jax.ArrayImpl'> b_gpu.dtype=dtype('int32') b_gpu.device=CudaDevice(id=0)\n"
     ]
    },
    {
     "data": {
      "text/plain": [
       "Array([ 0,  2,  4,  6,  8, 10], dtype=int32)"
      ]
     },
     "execution_count": 11,
     "metadata": {},
     "output_type": "execute_result"
    }
   ],
   "source": [
    "b_cpu = jax.device_get(b)\n",
    "print(f\"{b_cpu=}, {b_cpu.__class__=} {b_cpu.dtype=} {b_cpu.device=}\")\n",
    "\n",
    "b_gpu = jax.device_put(b_cpu)\n",
    "print(f\"{b_gpu=}, {b_gpu.__class__=} {b_gpu.dtype=} {b_gpu.device=}\")\n",
    "\n",
    "b_cpu + b_gpu"
   ]
  },
  {
   "cell_type": "code",
   "execution_count": 12,
   "id": "fc445bdb",
   "metadata": {},
   "outputs": [
    {
     "data": {
      "text/plain": [
       "[CudaDevice(id=0)]"
      ]
     },
     "execution_count": 12,
     "metadata": {},
     "output_type": "execute_result"
    }
   ],
   "source": [
    "jax.devices()"
   ]
  },
  {
   "cell_type": "code",
   "execution_count": 14,
   "id": "a100cd45",
   "metadata": {},
   "outputs": [
    {
     "name": "stdout",
     "output_type": "stream",
     "text": [
      "b=Array([0, 1, 2, 3, 4, 5], dtype=int32), b_new=Array([1, 1, 2, 3, 4, 5], dtype=int32)\n"
     ]
    }
   ],
   "source": [
    "b_new = b.at[0].set(1)\n",
    "print(f\"{b=}, {b_new=}\")"
   ]
  },
  {
   "cell_type": "code",
   "execution_count": 20,
   "id": "74a727f5",
   "metadata": {},
   "outputs": [
    {
     "name": "stdout",
     "output_type": "stream",
     "text": [
      "jax_random_number_1=Array(-0.02830462, dtype=float32), jax_random_number_2=Array(-0.02830462, dtype=float32)\n",
      "np_random_number_1=np.float64(0.14305665507357707), np_random_number_2=np.float64(2.31487907533281)\n",
      "jax_random_number_3=Array([0.60576403], dtype=float32), jax_random_number_4=Array([0.4323065], dtype=float32)\n"
     ]
    }
   ],
   "source": [
    "# pseudo random number generation\n",
    "rng = jax.random.key(42) # equivalent to jax.random.PRNGKey(0)\n",
    "jax_random_number_1, jax_random_number_2 = jax.random.normal(rng), jax.random.normal(rng)\n",
    "print(f\"{jax_random_number_1=}, {jax_random_number_2=}\")\n",
    "\n",
    "# random number in numpy\n",
    "np_random_number_1, np_random_number_2 = np.random.normal(size=2)\n",
    "print(f\"{np_random_number_1=}, {np_random_number_2=}\")\n",
    "\n",
    "# for different random number every time we sample, split the key:\n",
    "rng, subkey1, subkey2 = jax.random.split(rng, num=3)\n",
    "jax_random_number_3 = jax.random.normal(subkey1, shape=(1,))\n",
    "jax_random_number_4 = jax.random.normal(subkey2, shape=(1,))\n",
    "print(f\"{jax_random_number_3=}, {jax_random_number_4=}\")"
   ]
  },
  {
   "cell_type": "code",
   "execution_count": 21,
   "id": "58e9ce5c",
   "metadata": {},
   "outputs": [
    {
     "name": "stdout",
     "output_type": "stream",
     "text": [
      "input_array=Array([0., 1., 2., 3., 4., 5., 6., 7., 8., 9.], dtype=float32), output: simple_graph(input_array)=Array(53.5, dtype=float32)\n",
      "jaxpr={ lambda ; a:f32[10]. let\n",
      "    b:f32[10] = add a 2.0:f32[]\n",
      "    c:f32[10] = integer_pow[y=2] b\n",
      "    d:f32[10] = add c 3.0:f32[]\n",
      "    e:f32[] = reduce_sum[axes=(0,)] d\n",
      "    f:f32[] = div e 10.0:f32[]\n",
      "  in (f,) }\n"
     ]
    }
   ],
   "source": [
    "# function transformation with jaxpr\n",
    "def simple_graph(x):\n",
    "    x = x + 2\n",
    "    x = x ** 2\n",
    "    x = x + 3\n",
    "    y = x.mean()\n",
    "    return y\n",
    "\n",
    "input_array = jnp.arange(10, dtype=jnp.float32)\n",
    "print(f\"{input_array=}, output: {simple_graph(input_array)=}\")\n",
    "jaxpr = jax.make_jaxpr(simple_graph)(input_array)\n",
    "print(f\"{jaxpr=}\")"
   ]
  },
  {
   "cell_type": "code",
   "execution_count": 24,
   "id": "d493d4b2",
   "metadata": {},
   "outputs": [
    {
     "name": "stdout",
     "output_type": "stream",
     "text": [
      "jaxpr_norm={ lambda ; a:f32[10]. let\n",
      "    b:f32[] = pjit[\n",
      "      name=norm\n",
      "      jaxpr={ lambda ; a:f32[10]. let\n",
      "          c:f32[10] = mul a a\n",
      "          d:f32[] = reduce_sum[axes=(0,)] c\n",
      "          b:f32[] = sqrt d\n",
      "        in (b,) }\n",
      "    ] a\n",
      "  in (b,) }\n"
     ]
    }
   ],
   "source": [
    "global_list = []\n",
    "\n",
    "def norm(x):\n",
    "    global global_list\n",
    "    global_list.append(x)\n",
    "    return jnp.linalg.norm(x)\n",
    "# watch out for the global variable, it will not be captured in jax\n",
    "jaxpr_norm = jax.make_jaxpr(norm)(input_array)\n",
    "print(f\"{jaxpr_norm=}\")"
   ]
  },
  {
   "cell_type": "code",
   "execution_count": 25,
   "id": "234a06b1",
   "metadata": {},
   "outputs": [
    {
     "name": "stdout",
     "output_type": "stream",
     "text": [
      "Gradients of simple_graph at input_array=Array([0., 1., 2., 3., 4., 5., 6., 7., 8., 9.], dtype=float32): gradients=Array([0.4      , 0.6      , 0.8      , 1.       , 1.2      , 1.4      ,\n",
      "       1.6      , 1.8000001, 2.       , 2.2      ], dtype=float32)\n"
     ]
    }
   ],
   "source": [
    "# TODO: automatic differentiation\n",
    "\n",
    "grad_function = jax.grad(simple_graph)\n",
    "gradients = grad_function(input_array)\n",
    "print(f\"Gradients of {simple_graph.__name__} at {input_array=}: {gradients=}\")"
   ]
  },
  {
   "cell_type": "code",
   "execution_count": 26,
   "id": "ed6b7d00",
   "metadata": {},
   "outputs": [
    {
     "data": {
      "text/plain": [
       "{ lambda ; a:f32[10]. let\n",
       "    b:f32[10] = add a 2.0:f32[]\n",
       "    c:f32[10] = integer_pow[y=2] b\n",
       "    d:f32[10] = integer_pow[y=1] b\n",
       "    e:f32[10] = mul 2.0:f32[] d\n",
       "    f:f32[10] = add c 3.0:f32[]\n",
       "    g:f32[] = reduce_sum[axes=(0,)] f\n",
       "    _:f32[] = div g 10.0:f32[]\n",
       "    h:f32[] = div 1.0:f32[] 10.0:f32[]\n",
       "    i:f32[10] = broadcast_in_dim[\n",
       "      broadcast_dimensions=()\n",
       "      shape=(10,)\n",
       "      sharding=None\n",
       "    ] h\n",
       "    j:f32[10] = mul i e\n",
       "  in (j,) }"
      ]
     },
     "execution_count": 26,
     "metadata": {},
     "output_type": "execute_result"
    }
   ],
   "source": [
    "jax.make_jaxpr(grad_function)(input_array)"
   ]
  },
  {
   "cell_type": "code",
   "execution_count": null,
   "id": "8185042e",
   "metadata": {},
   "outputs": [],
   "source": [
    "# TODO: understand the differentiation"
   ]
  }
 ],
 "metadata": {
  "kernelspec": {
   "display_name": ".venv",
   "language": "python",
   "name": "python3"
  },
  "language_info": {
   "codemirror_mode": {
    "name": "ipython",
    "version": 3
   },
   "file_extension": ".py",
   "mimetype": "text/x-python",
   "name": "python",
   "nbconvert_exporter": "python",
   "pygments_lexer": "ipython3",
   "version": "3.12.3"
  }
 },
 "nbformat": 4,
 "nbformat_minor": 5
}
