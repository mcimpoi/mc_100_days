{
 "cells": [
  {
   "cell_type": "markdown",
   "metadata": {},
   "source": [
    "1. Linear regression in JAX"
   ]
  },
  {
   "cell_type": "code",
   "execution_count": 52,
   "metadata": {},
   "outputs": [
    {
     "name": "stdout",
     "output_type": "stream",
     "text": [
      "w=Array([[1.0040143]], dtype=float32), b=Array([[-2.4424558]], dtype=float32)\n",
      "16.348314\n"
     ]
    },
    {
     "name": "stderr",
     "output_type": "stream",
     "text": [
      "  0%|          | 0/200 [00:00<?, ?it/s]"
     ]
    },
    {
     "name": "stderr",
     "output_type": "stream",
     "text": [
      "100%|██████████| 200/200 [00:00<00:00, 263.58it/s]\n"
     ]
    },
    {
     "data": {
      "image/png": "[encoded data removed]",
      "text/plain": [
       "<Figure size 640x480 with 1 Axes>"
      ]
     },
     "metadata": {},
     "output_type": "display_data"
    },
    {
     "name": "stdout",
     "output_type": "stream",
     "text": [
      "After training: params=[Array([[2.1181931]], dtype=float32), Array([[0.36589012]], dtype=float32)]\n",
      "0.79261744\n",
      "loss(params, new_x, new_y)=Array(0.78215766, dtype=float32)\n"
     ]
    }
   ],
   "source": [
    "import jax\n",
    "import jax.numpy as jnp\n",
    "import tqdm\n",
    "import matplotlib.pyplot as plt\n",
    "\n",
    "# generate synthetic data\n",
    "\n",
    "def get_synthetic_data(key, n_samples=100):\n",
    "    x = jax.random.uniform(key, shape=(n_samples,1))\n",
    "    y = 2 * x + 1 + jax.random.normal(key, (n_samples,1)) * 0.01\n",
    "    return x, y\n",
    "\n",
    "def init_network_params(input_dim, output_dim, key):\n",
    "    key_w, key_b = jax.random.split(key)\n",
    "    w = jax.random.normal(key_w, (input_dim, output_dim))\n",
    "    b = jax.random.normal(key_b, (output_dim, 1))\n",
    "    return w, b\n",
    "\n",
    "def predict(params, inputs):\n",
    "    w, b = params\n",
    "    return jnp.dot(inputs, w) + b\n",
    "\n",
    "def loss(params, inputs, targets):\n",
    "    predictions = predict(params, inputs)\n",
    "    return jnp.mean((predictions - targets) ** 2) + 0.1 * jnp.sum(params[0] ** 2) + 0.1 * jnp.sum(params[1] ** 2)\n",
    "\n",
    "@jax.jit\n",
    "def update(params, inputs, targets, learning_rate) -> list[jnp.ndarray]:\n",
    "    grads = jax.grad(loss)(params, inputs, targets)\n",
    "    return [(p - g * learning_rate) for p, g in zip(params, grads)]\n",
    "\n",
    "def train(params, inputs, targets, learning_rate, num_epochs):\n",
    "    loss_history = []\n",
    "    for epoch in tqdm.tqdm(range(num_epochs)):\n",
    "        params = update(params, inputs, targets, learning_rate)\n",
    "        loss_history.append(loss(params, inputs, targets))\n",
    "        if epoch % 10 == 0:\n",
    "            learning_rate *= 0.9\n",
    "        # print(f\"Loss: {loss_history[-1]}\")\n",
    "    return params, loss_history\n",
    "\n",
    "\n",
    "key = jax.random.PRNGKey(0)\n",
    "inputs, targets = get_synthetic_data(key, n_samples=500)\n",
    "w, b = init_network_params(1, 1, key)\n",
    "\n",
    "print(f\"{w=}, {b=}\")\n",
    "print(loss(params=(w, b), inputs=inputs, targets=targets))\n",
    "\n",
    "\n",
    "learning_rate = 0.01\n",
    "num_epochs = 200\n",
    "\n",
    "predict_one = predict(params=(w, b), inputs=inputs)\n",
    "\n",
    "params = (w, b)\n",
    "params, loss_history = train(params, inputs, targets, learning_rate, num_epochs)\n",
    "\n",
    "plt.plot(loss_history)\n",
    "plt.show()\n",
    "\n",
    "print(f\"After training: {params=}\")\n",
    "\n",
    "print(loss_history[-1])\n",
    "new_data_key = jax.random.PRNGKey(1)\n",
    "new_x, new_y = get_synthetic_data(new_data_key, n_samples=10)\n",
    "\n",
    "print(f\"{loss(params, new_x, new_y)=}\")\n",
    "\n",
    "\n",
    "\n"
   ]
  },
  {
   "cell_type": "code",
   "execution_count": 28,
   "metadata": {},
   "outputs": [
    {
     "name": "stdout",
     "output_type": "stream",
     "text": [
      "jax.grad(loss)=<function loss at 0x7e0484772840>\n"
     ]
    }
   ],
   "source": [
    "print(f\"{jax.grad(loss)=}\")"
   ]
  },
  {
   "cell_type": "code",
   "execution_count": null,
   "metadata": {},
   "outputs": [],
   "source": []
  }
 ],
 "metadata": {
  "kernelspec": {
   "display_name": ".venv",
   "language": "python",
   "name": "python3"
  },
  "language_info": {
   "codemirror_mode": {
    "name": "ipython",
    "version": 3
   },
   "file_extension": ".py",
   "mimetype": "text/x-python",
   "name": "python",
   "nbconvert_exporter": "python",
   "pygments_lexer": "ipython3",
   "version": "3.12.3"
  }
 },
 "nbformat": 4,
 "nbformat_minor": 2
}
