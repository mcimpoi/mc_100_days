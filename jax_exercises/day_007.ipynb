{
 "cells": [
  {
   "cell_type": "markdown",
   "metadata": {},
   "source": [
    "back to jit: https://github.com/IanQS/numpy_to_jax/blob/main/exercises/exe_02_jit.ipynb"
   ]
  },
  {
   "cell_type": "markdown",
   "metadata": {},
   "source": [
    " Let's do a simple-ish task where we generate a matrix, \n",
    " and everything less than 0.5 we take the square-root of, and anything greater than 0.5 we square. We finally multiply this matrix with itself"
   ]
  },
  {
   "cell_type": "code",
   "execution_count": 4,
   "metadata": {},
   "outputs": [
    {
     "name": "stdout",
     "output_type": "stream",
     "text": [
      "Numpy version:\n",
      "26.6 ms ± 628 μs per loop (mean ± std. dev. of 7 runs, 10 loops each)\n",
      "Jax version:\n",
      "851 μs ± 76.8 μs per loop (mean ± std. dev. of 7 runs, 100 loops each)\n",
      "Jitted version:\n",
      "1.91 ms ± 113 μs per loop (mean ± std. dev. of 7 runs, 1 loop each)\n",
      "Jitted version:\n",
      "1.72 ms ± 313 μs per loop (mean ± std. dev. of 7 runs, 1,000 loops each)\n"
     ]
    }
   ],
   "source": [
    "import numpy as np\n",
    "import jax\n",
    "import jax.numpy as jnp\n",
    "\n",
    "input_arr_np = np.random.rand(1000, 1000)\n",
    "input_arr_jax = jnp.array(input_arr_np)\n",
    "\n",
    "def func_np(m):\n",
    "    mask = m > 0.5\n",
    "    m = np.where(mask, np.sqrt(m), m**2)\n",
    "    return m @ m\n",
    "\n",
    "def func_jax(m):\n",
    "    mask = m > 0.5\n",
    "    m = jnp.where(mask, jnp.sqrt(m), m**2)\n",
    "    return m @ m\n",
    "\n",
    "jitted_func = jax.jit(func_jax)\n",
    "\n",
    "print(\"Numpy version:\")\n",
    "%timeit func_np(input_arr_np)\n",
    "\n",
    "print(\"Jax version:\")\n",
    "%timeit func_jax(input_arr_jax)\n",
    "\n",
    "print(\"Jitted version:\")\n",
    "%timeit jitted_func(input_arr_jax).block_until_ready()\n",
    "\n",
    "print(\"Jitted version:\")\n",
    "%timeit jitted_func(input_arr_jax).block_until_ready()"
   ]
  },
  {
   "cell_type": "code",
   "execution_count": null,
   "metadata": {},
   "outputs": [],
   "source": []
  }
 ],
 "metadata": {
  "kernelspec": {
   "display_name": ".venv",
   "language": "python",
   "name": "python3"
  },
  "language_info": {
   "codemirror_mode": {
    "name": "ipython",
    "version": 3
   },
   "file_extension": ".py",
   "mimetype": "text/x-python",
   "name": "python",
   "nbconvert_exporter": "python",
   "pygments_lexer": "ipython3",
   "version": "3.12.3"
  }
 },
 "nbformat": 4,
 "nbformat_minor": 2
}
