{
 "cells": [
  {
   "cell_type": "code",
   "execution_count": 9,
   "metadata": {},
   "outputs": [
    {
     "name": "stdout",
     "output_type": "stream",
     "text": [
      "time_without_jit=5.629175166001005\n",
      "time_with_jit=0.35892157899979793\n"
     ]
    }
   ],
   "source": [
    "import jax\n",
    "import jax.numpy as jnp\n",
    "import timeit\n",
    "\n",
    "def sum_of_squares(x):\n",
    "    return jnp.sum(x**2)\n",
    "\n",
    "grad_sum_of_sq = jax.grad(sum_of_squares)\n",
    "\n",
    "key = jax.random.PRNGKey(0)\n",
    "input_array = jax.random.normal(key, (1000,))\n",
    "\n",
    "gradient = grad_sum_of_sq(input_array)\n",
    "\n",
    "jit_grad_sum_sq = jax.jit(grad_sum_of_sq)\n",
    "\n",
    "jit_grad_sum_sq(input_array).block_until_ready()\n",
    "\n",
    "time_without_jit = timeit.timeit(lambda: grad_sum_of_sq(input_array).block_until_ready(), number=1000)\n",
    "time_with_jit = timeit.timeit(lambda: jit_grad_sum_sq(input_array).block_until_ready(), number=1000)\n",
    "\n",
    "\n",
    "print(f\"{time_without_jit=}\\n{time_with_jit=}\")"
   ]
  },
  {
   "cell_type": "code",
   "execution_count": null,
   "metadata": {},
   "outputs": [],
   "source": []
  },
  {
   "cell_type": "code",
   "execution_count": null,
   "metadata": {},
   "outputs": [],
   "source": []
  }
 ],
 "metadata": {
  "kernelspec": {
   "display_name": ".venv",
   "language": "python",
   "name": "python3"
  },
  "language_info": {
   "codemirror_mode": {
    "name": "ipython",
    "version": 3
   },
   "file_extension": ".py",
   "mimetype": "text/x-python",
   "name": "python",
   "nbconvert_exporter": "python",
   "pygments_lexer": "ipython3",
   "version": "3.12.3"
  }
 },
 "nbformat": 4,
 "nbformat_minor": 2
}
