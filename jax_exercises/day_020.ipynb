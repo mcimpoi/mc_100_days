{
 "cells": [
  {
   "cell_type": "markdown",
   "id": "863fd06d",
   "metadata": {},
   "source": [
    "https://uvadlc-notebooks.readthedocs.io/en/latest/tutorial_notebooks/JAX/tutorial2/Introduction_to_JAX.html#Implementing-a-Neural-Network-with-Flax "
   ]
  },
  {
   "cell_type": "code",
   "execution_count": 2,
   "id": "ca38b236",
   "metadata": {},
   "outputs": [],
   "source": [
    "import numpy as np\n",
    "import flax\n",
    "from flax import linen as nn\n",
    "import jax\n",
    "import jax.numpy as jnp\n",
    "\n",
    "import torch.utils.data as data"
   ]
  },
  {
   "cell_type": "code",
   "execution_count": null,
   "id": "3293ecf3",
   "metadata": {},
   "outputs": [],
   "source": [
    "class SimpleClassifier(nn.Module):\n",
    "    num_hidden: int\n",
    "    num_outputs: int\n",
    "    \n",
    "    def setup(self):\n",
    "        self.linear1 = nn.Dense(features = self.num_hidden)\n",
    "        self.linear2 = nn.Dense(features = self.num_outputs)\n",
    "\n",
    "    # Forward in pytorch\n",
    "    def __call__(self, x):\n",
    "        x = self.linear1(x)\n",
    "        x = nn.tanh(x)\n",
    "        x = self.linear2(x)\n",
    "        return x"
   ]
  },
  {
   "cell_type": "code",
   "execution_count": null,
   "id": "683541f0",
   "metadata": {},
   "outputs": [],
   "source": [
    "# nn.compact: remove the for setup\n",
    "\n",
    "class SimpleClassifierCompact(nn.Module):\n",
    "    num_hiden: int\n",
    "    num_outputs: int\n",
    "    \n",
    "    @nn.compact\n",
    "    def __call__(self, x):\n",
    "        x = nn.Dense(features = self.num_hiden)(x)\n",
    "        x = nn.tanh(x)\n",
    "        x = nn.Dense(features = self.num_outputs)(x)\n",
    "        return x"
   ]
  },
  {
   "cell_type": "code",
   "execution_count": null,
   "id": "0774d320",
   "metadata": {},
   "outputs": [],
   "source": [
    "model  = SimpleClassifier(num_hidden=8, num_outputs=1)\n",
    "print(model)"
   ]
  },
  {
   "cell_type": "code",
   "execution_count": null,
   "id": "5be8a841",
   "metadata": {},
   "outputs": [],
   "source": [
    "rng, input_rng, init_rng = jax.random.split(jax.random.PRNGKey(0), 3)\n",
    "inputs = jax.random.normal(input_rng, (8, 2))\n",
    "params = model.init(init_rng, inputs)\n",
    "print(f\"Parameters: {params=}\")"
   ]
  },
  {
   "cell_type": "code",
   "execution_count": null,
   "id": "a3250386",
   "metadata": {},
   "outputs": [],
   "source": [
    "model.apply(params, inputs)"
   ]
  },
  {
   "cell_type": "code",
   "execution_count": null,
   "id": "b9847e8d",
   "metadata": {},
   "outputs": [],
   "source": [
    "class XORDataset(data.Dataset):\n",
    "    def __init__(self, size, seed, std=0.1):\n",
    "        super().__init__()\n",
    "        self.size = size\n",
    "        self.np_rng = np.random.RandomState(seed=seed)\n",
    "        \n",
    "\n",
    "    def __len__(self):\n",
    "        return len(self.data)\n",
    "\n",
    "    def __getitem__(self, idx):\n",
    "        return self.data[idx], self.targets[idx]"
   ]
  }
 ],
 "metadata": {
  "kernelspec": {
   "display_name": ".venv",
   "language": "python",
   "name": "python3"
  },
  "language_info": {
   "codemirror_mode": {
    "name": "ipython",
    "version": 3
   },
   "file_extension": ".py",
   "mimetype": "text/x-python",
   "name": "python",
   "nbconvert_exporter": "python",
   "pygments_lexer": "ipython3",
   "version": "3.12.3"
  }
 },
 "nbformat": 4,
 "nbformat_minor": 5
}
