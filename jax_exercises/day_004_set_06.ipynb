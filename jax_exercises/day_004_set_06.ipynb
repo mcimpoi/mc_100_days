{
 "cells": [
  {
   "cell_type": "markdown",
   "metadata": {},
   "source": [
    "Automatic differentiation:\n",
    "\n",
    "https://github.com/vopani/jaxton/blob/main/notebooks/06_automatic_differentiation_exercises.ipynb"
   ]
  },
  {
   "cell_type": "code",
   "execution_count": 1,
   "metadata": {},
   "outputs": [],
   "source": [
    "import jax\n",
    "import jax.numpy as jnp\n",
    "import math\n"
   ]
  },
  {
   "cell_type": "code",
   "execution_count": 2,
   "metadata": {},
   "outputs": [],
   "source": [
    "def cube(x):\n",
    "    return x**3"
   ]
  },
  {
   "cell_type": "code",
   "execution_count": null,
   "metadata": {},
   "outputs": [],
   "source": [
    "## sample areas function\n",
    "def areas(x):\n",
    "    return [math.sqrt(3)*x**2/4, x**2, math.pi*x**2]\n",
    "\n",
    "areas(2)"
   ]
  },
  {
   "cell_type": "markdown",
   "metadata": {},
   "source": [
    "Exercise 51: JIT-compile the derivative of cube and assign it to derivative_cube\n",
    "\n",
    "Exercise 52: Run derivative_cube with value=7\n",
    "\n",
    "Exercise 53: JIT-compile the value and derivative of cube together, assign it to value_and_derivative_cube and run it with value=7\n",
    "\n"
   ]
  },
  {
   "cell_type": "code",
   "execution_count": 9,
   "metadata": {},
   "outputs": [
    {
     "name": "stdout",
     "output_type": "stream",
     "text": [
      "derivative_cube(7.)=Array(147., dtype=float32, weak_type=True)\n",
      "value_and_derivative_cube(7.)=(Array(343., dtype=float32, weak_type=True), Array(147., dtype=float32, weak_type=True))\n"
     ]
    }
   ],
   "source": [
    "derivative_cube = jax.jit(jax.grad(cube))\n",
    "value_and_derivative_cube = jax.jit(jax.value_and_grad(cube))\n",
    "\n",
    "print(f\"{derivative_cube(7.)=}\\n{value_and_derivative_cube(7.)=}\")\n"
   ]
  },
  {
   "cell_type": "markdown",
   "metadata": {},
   "source": [
    "Exercise 54: JIT-compile the second order derivative of cube, assign it to derivative_cube_2 and run it with value=7"
   ]
  },
  {
   "cell_type": "code",
   "execution_count": 10,
   "metadata": {},
   "outputs": [
    {
     "name": "stdout",
     "output_type": "stream",
     "text": [
      "derivative_cube_2(7.)=Array(42., dtype=float32, weak_type=True)\n"
     ]
    }
   ],
   "source": [
    "derivative_cube_2 = jax.jit(jax.grad(derivative_cube))\n",
    "print(f\"{derivative_cube_2(7.)=}\")"
   ]
  },
  {
   "cell_type": "markdown",
   "metadata": {},
   "source": [
    "Exercise 55: JIT-compile the hessian of cube, assign it to hessian_cube and run it with value=7\n",
    "\n"
   ]
  },
  {
   "cell_type": "code",
   "execution_count": 11,
   "metadata": {},
   "outputs": [
    {
     "name": "stdout",
     "output_type": "stream",
     "text": [
      "hessian_cube(7.)=Array(42., dtype=float32, weak_type=True)\n"
     ]
    }
   ],
   "source": [
    "hessian_cube = jax.jit(jax.hessian(cube))\n",
    "print(f\"{hessian_cube(7.)=}\")\n"
   ]
  },
  {
   "cell_type": "code",
   "execution_count": null,
   "metadata": {},
   "outputs": [],
   "source": []
  }
 ],
 "metadata": {
  "kernelspec": {
   "display_name": ".venv",
   "language": "python",
   "name": "python3"
  },
  "language_info": {
   "codemirror_mode": {
    "name": "ipython",
    "version": 3
   },
   "file_extension": ".py",
   "mimetype": "text/x-python",
   "name": "python",
   "nbconvert_exporter": "python",
   "pygments_lexer": "ipython3",
   "version": "3.12.3"
  }
 },
 "nbformat": 4,
 "nbformat_minor": 2
}
