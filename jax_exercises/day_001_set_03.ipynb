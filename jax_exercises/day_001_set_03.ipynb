{
 "cells": [
  {
   "cell_type": "markdown",
   "metadata": {},
   "source": [
    "Set 3: https://github.com/vopani/jaxton/blob/main/notebooks/03_pseudorandom_numbers_exercises.ipynb"
   ]
  },
  {
   "cell_type": "code",
   "execution_count": 2,
   "metadata": {},
   "outputs": [],
   "source": [
    "import jax\n",
    "import jax.numpy as jnp"
   ]
  },
  {
   "cell_type": "markdown",
   "metadata": {},
   "source": [
    "Exercise 21: Create a pseudorandom number generator key with seed=100 and assign it to key\n",
    "\n",
    "Exercise 22: Create a subkey from key and assign it to subkey\n",
    "\n",
    "Exercise 23: Split key into seven subkeys key_1, key_2, key_3, key_4, key_5, key_6 and key_7\n",
    "\n",
    "Exercise 24: Create a random permutation of sample_data using key_1 and assign it to data_permutation\n"
   ]
  },
  {
   "cell_type": "code",
   "execution_count": 3,
   "metadata": {},
   "outputs": [
    {
     "data": {
      "text/plain": [
       "Array([10,  1, 24, 20, 15, 14], dtype=int32)"
      ]
     },
     "execution_count": 3,
     "metadata": {},
     "output_type": "execute_result"
    }
   ],
   "source": [
    "## sample data\n",
    "sample_data = jnp.array([10, 1, 24, 20, 15, 14])\n",
    "sample_data"
   ]
  },
  {
   "cell_type": "code",
   "execution_count": 5,
   "metadata": {},
   "outputs": [
    {
     "name": "stdout",
     "output_type": "stream",
     "text": [
      "key=Array([  0, 100], dtype=uint32)\n",
      "key=Array([ 701046466, 2104227382], dtype=uint32)\n",
      "subkey=Array([2213033797, 2583756506], dtype=uint32)\n"
     ]
    }
   ],
   "source": [
    "# pseudorandom number generator key with seed 100 \n",
    "key = jax.random.PRNGKey(seed=100)\n",
    "print(f\"{key=}\")\n",
    "# split key to get subkey\n",
    "key, subkey = jax.random.split(key)\n",
    "print(f\"{key=}\\n{subkey=}\")\n",
    "# split key into seven subkeys key_1, key_2, key_3, key_4, key_5, key_6 and key_7\n",
    "key_1, key_2, key_3, key_4, key_5, key_6, key_7 = jax.random.split(key, num=7)\n",
    "# create a random permutation of sample_data using key_1\n",
    "data_permutation = jax.random.permutation(key_1, sample_data)\n"
   ]
  },
  {
   "cell_type": "markdown",
   "metadata": {},
   "source": [
    "Exercise 25: Choose a random element from sample_data using key_2 and assign it to random_selection\n",
    "\n",
    "Exercise 26: Sample an integer between 10 and 24 using key_3 and assign it to sample_int\n",
    "\n",
    "Exercise 27: Sample two values from uniform distribution between 1 and 2 using key_4 and assign it to sample_uniform\n",
    "\n",
    "Exercise 28: Sample three values from bernoulli distribution using key_5 and assign it to sample_bernoulli\n",
    "\n",
    "Exercise 29: Sample a 2x3 matrix from poisson distribution with λ=100 using key_6 and assign it to sample_poisson\n",
    "\n",
    "Exercise 30: Sample a 2x3x4 array from normal distribution using key_7 and assign it to sample_normal\n",
    "\n"
   ]
  },
  {
   "cell_type": "code",
   "execution_count": 18,
   "metadata": {},
   "outputs": [
    {
     "name": "stdout",
     "output_type": "stream",
     "text": [
      "random_selection=Array(15, dtype=int32)\n",
      "sample_int=Array([20], dtype=int32)\n",
      "sample_uniform=Array([1.2547921, 1.2823569], dtype=float32)\n",
      "sample_bernoulli=Array([ True,  True,  True], dtype=bool)\n",
      "0.284\n",
      "sample_poisson=Array([[ 94, 109, 106],\n",
      "       [ 89, 100,  84]], dtype=int32)\n",
      "sample_normal_mean=Array(0.16126357, dtype=float32), sample_normal_std=Array(1.0136296, dtype=float32)\n"
     ]
    }
   ],
   "source": [
    "random_selection = jax.random.choice(key_2, sample_data)\n",
    "print(f\"{random_selection=}\")\n",
    "\n",
    "sample_int = jax.random.randint(key_3, shape=(1,), minval=10, maxval=24)\n",
    "print(f\"{sample_int=}\")\n",
    "\n",
    "sample_uniform = jax.random.uniform(key_4, shape=(2,), minval=1, maxval=2)\n",
    "print(f\"{sample_uniform=}\")\n",
    "\n",
    "sample_bernoulli = jax.random.bernoulli(key_5, shape=(3,))\n",
    "print(f\"{sample_bernoulli=}\")\n",
    "\n",
    "# Sampling from bernoulli distribution returns values 0 or 1. \n",
    "# The probability of getting 1 is p, i.e sum of bernoulli_samples should be close to p * num_samples\n",
    "bernoulli_samples = jax.random.bernoulli(key_5, shape=(1000,), p=0.27)\n",
    "num_ones = jnp.sum(bernoulli_samples)\n",
    "print(f\"{num_ones / 1000.:.3f}\")\n",
    "\n",
    "# poisson 2x3 matrics with lambda=100\n",
    "sample_poisson = jax.random.poisson(key_6, shape=(2, 3), lam=100)\n",
    "print(f\"{sample_poisson=}\")\n",
    "\n",
    "# normal 2x3x4 array\n",
    "sample_normal = jax.random.normal(key_7, shape=(2, 3, 4))\n",
    "sample_normal_mean = jnp.mean(sample_normal)\n",
    "sample_normal_std = jnp.std(sample_normal)\n",
    "print(f\"{sample_normal_mean=}, {sample_normal_std=}\")\n",
    "\n"
   ]
  },
  {
   "cell_type": "code",
   "execution_count": null,
   "metadata": {},
   "outputs": [],
   "source": []
  }
 ],
 "metadata": {
  "kernelspec": {
   "display_name": ".venv",
   "language": "python",
   "name": "python3"
  },
  "language_info": {
   "codemirror_mode": {
    "name": "ipython",
    "version": 3
   },
   "file_extension": ".py",
   "mimetype": "text/x-python",
   "name": "python",
   "nbconvert_exporter": "python",
   "pygments_lexer": "ipython3",
   "version": "3.12.3"
  }
 },
 "nbformat": 4,
 "nbformat_minor": 2
}
