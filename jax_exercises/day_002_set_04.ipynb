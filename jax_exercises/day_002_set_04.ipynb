{
 "cells": [
  {
   "cell_type": "markdown",
   "metadata": {},
   "source": [
    "Set 31-40:\n",
    "https://github.com/vopani/jaxton/blob/main/notebooks/04_justintime_jit_compilation_exercises.ipynb "
   ]
  },
  {
   "cell_type": "code",
   "execution_count": 10,
   "metadata": {},
   "outputs": [],
   "source": [
    "import jax\n",
    "import jax.numpy as jnp"
   ]
  },
  {
   "cell_type": "code",
   "execution_count": 11,
   "metadata": {},
   "outputs": [
    {
     "name": "stdout",
     "output_type": "stream",
     "text": [
      "9.261000000000001\n"
     ]
    }
   ],
   "source": [
    "def cube(x):\n",
    "    return x ** 3\n",
    "\n",
    "print(cube(2.1))"
   ]
  },
  {
   "cell_type": "markdown",
   "metadata": {},
   "source": [
    "Ex. 31: JIT-compile the cube function and assign to cube_jit"
   ]
  },
  {
   "cell_type": "code",
   "execution_count": 12,
   "metadata": {},
   "outputs": [
    {
     "name": "stdout",
     "output_type": "stream",
     "text": [
      "gpu\n"
     ]
    }
   ],
   "source": [
    "print(jax.default_backend())\n",
    "cube_jit = jax.jit(cube)"
   ]
  },
  {
   "cell_type": "markdown",
   "metadata": {},
   "source": [
    "Exercise 32: Display execution time of cube_jit for first run (with overhead) with input=10.24\n",
    "\n",
    "Exercise 33: Display execution time of cube_jit for second run (without overhead) with input=10.24"
   ]
  },
  {
   "cell_type": "code",
   "execution_count": 13,
   "metadata": {},
   "outputs": [
    {
     "name": "stdout",
     "output_type": "stream",
     "text": [
      "CPU times: user 59.2 ms, sys: 209 μs, total: 59.4 ms\n",
      "Wall time: 78.1 ms\n"
     ]
    },
    {
     "data": {
      "text/plain": [
       "Array(1073.7418, dtype=float32, weak_type=True)"
      ]
     },
     "execution_count": 13,
     "metadata": {},
     "output_type": "execute_result"
    }
   ],
   "source": [
    "%%time\n",
    "cube_jit(10.24)\n",
    "\n"
   ]
  },
  {
   "cell_type": "code",
   "execution_count": 14,
   "metadata": {},
   "outputs": [
    {
     "name": "stdout",
     "output_type": "stream",
     "text": [
      "CPU times: user 1.31 ms, sys: 407 μs, total: 1.71 ms\n",
      "Wall time: 957 μs\n"
     ]
    },
    {
     "data": {
      "text/plain": [
       "Array(1073.7418, dtype=float32, weak_type=True)"
      ]
     },
     "execution_count": 14,
     "metadata": {},
     "output_type": "execute_result"
    }
   ],
   "source": [
    "%%time\n",
    "cube_jit(10.24)"
   ]
  },
  {
   "cell_type": "markdown",
   "metadata": {},
   "source": [
    "Exercise 34: Run cube_jit with input=10.24 and assign it to cube_value\n",
    "\n",
    "Exercise 35: Run cube_jit with jit disabled and input=10.24 and assign it to cube_value_nojit\n",
    "\n"
   ]
  },
  {
   "cell_type": "code",
   "execution_count": 15,
   "metadata": {},
   "outputs": [
    {
     "name": "stdout",
     "output_type": "stream",
     "text": [
      "cube_value=Array(1073.7418, dtype=float32, weak_type=True)\n",
      "cube_value_nojit=1073.7418240000002\n"
     ]
    }
   ],
   "source": [
    "cube_value = cube_jit(10.24)\n",
    "with jax.disable_jit():\n",
    "    cube_value_nojit = cube(10.24)\n",
    "\n",
    "print(f\"{cube_value=}\\n{cube_value_nojit=}\")"
   ]
  },
  {
   "cell_type": "markdown",
   "metadata": {},
   "source": [
    "Exercise 36: Evaluate the shape of cube_jit with input=10.24 and assign it to cube_shape\n",
    "\n"
   ]
  },
  {
   "cell_type": "code",
   "execution_count": 16,
   "metadata": {},
   "outputs": [
    {
     "name": "stdout",
     "output_type": "stream",
     "text": [
      "cube_shape=() cube_shape_eval=ShapeDtypeStruct(shape=(), dtype=float32, weak_type=True)\n"
     ]
    }
   ],
   "source": [
    "cube_shape = cube_jit(10.24).shape\n",
    "\n",
    "cube_shape_eval = jax.eval_shape(cube_jit, 10.24)\n",
    "\n",
    "print(f\"{cube_shape=} {cube_shape_eval=}\")"
   ]
  },
  {
   "cell_type": "markdown",
   "metadata": {},
   "source": [
    "Exercise 37: Create the jaxpr of cube_jit with input=10.24 and assign it to cube_jaxpr\n",
    "\n"
   ]
  },
  {
   "cell_type": "code",
   "execution_count": 18,
   "metadata": {},
   "outputs": [
    {
     "name": "stdout",
     "output_type": "stream",
     "text": [
      "cube_jaxpr={ lambda ; a:f32[]. let\n",
      "    b:f32[] = pjit[\n",
      "      name=cube\n",
      "      jaxpr={ lambda ; a:f32[]. let b:f32[] = integer_pow[y=3] a in (b,) }\n",
      "    ] a\n",
      "  in (b,) }\n"
     ]
    }
   ],
   "source": [
    "cube_jaxpr = jax.make_jaxpr(cube_jit)(10.24)\n",
    "print(f\"{cube_jaxpr=}\")"
   ]
  },
  {
   "cell_type": "code",
   "execution_count": null,
   "metadata": {},
   "outputs": [],
   "source": [
    "Exercise 38: Assign the XLA computation of cube_jit with input=10.24 to cube_xla and print it's XLA HLO text\n",
    "\n"
   ]
  },
  {
   "cell_type": "code",
   "execution_count": 37,
   "metadata": {},
   "outputs": [
    {
     "name": "stdout",
     "output_type": "stream",
     "text": [
      "XLA: HloModule jit_cube, entry_computation_layout={(f32[])->f32[]}\n",
      "\n",
      "ENTRY main.4 {\n",
      "  Arg_0.1 = f32[] parameter(0)\n",
      "  multiply.2 = f32[] multiply(Arg_0.1, Arg_0.1)\n",
      "  ROOT multiply.3 = f32[] multiply(multiply.2, Arg_0.1)\n",
      "}\n",
      "\n",
      "\n"
     ]
    }
   ],
   "source": [
    "# cube_xla = jax.xla_computation(cube_jit)(10.24)\n",
    "xla_comp = jax.jit(cube).lower(10.24).compiler_ir(\"hlo\")\n",
    "print(\"XLA:\", xla_comp.as_hlo_text())\n"
   ]
  },
  {
   "cell_type": "code",
   "execution_count": null,
   "metadata": {},
   "outputs": [],
   "source": []
  }
 ],
 "metadata": {
  "kernelspec": {
   "display_name": ".venv",
   "language": "python",
   "name": "python3"
  },
  "language_info": {
   "codemirror_mode": {
    "name": "ipython",
    "version": 3
   },
   "file_extension": ".py",
   "mimetype": "text/x-python",
   "name": "python",
   "nbconvert_exporter": "python",
   "pygments_lexer": "ipython3",
   "version": "3.12.3"
  }
 },
 "nbformat": 4,
 "nbformat_minor": 2
}
