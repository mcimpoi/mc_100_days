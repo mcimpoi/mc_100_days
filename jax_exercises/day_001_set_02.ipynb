{
 "cells": [
  {
   "cell_type": "markdown",
   "metadata": {},
   "source": [
    "Source: \n",
    "https://github.com/vopani/jaxton/blob/main/notebooks/02_data_operations_exercises.ipynb"
   ]
  },
  {
   "cell_type": "markdown",
   "metadata": {
    "vscode": {
     "languageId": "plaintext"
    }
   },
   "source": [
    "Exercise 11: Create a matrix with values [[10, 1, 24], [20, 15, 14]] and assign it to data\n",
    "\n",
    "Exercise 12: Assign the transpose of data to dataT\n",
    "\n",
    "Exercise 13: Assign the element of data at index [0, 2] to value"
   ]
  },
  {
   "cell_type": "code",
   "execution_count": 1,
   "metadata": {},
   "outputs": [],
   "source": [
    "import jax\n",
    "import jax.numpy as jnp"
   ]
  },
  {
   "cell_type": "code",
   "execution_count": 2,
   "metadata": {},
   "outputs": [
    {
     "name": "stdout",
     "output_type": "stream",
     "text": [
      "data=Array([[10,  1, 24],\n",
      "       [20, 15, 14]], dtype=int32)\n",
      "dataT=Array([[10, 20],\n",
      "       [ 1, 15],\n",
      "       [24, 14]], dtype=int32)\n",
      "value=24\n"
     ]
    }
   ],
   "source": [
    "data = jnp.array([[10, 1, 24], [20, 15, 14]])\n",
    "dataT = data.T\n",
    "value = data.at[0, 2].get().item()\n",
    "print(f\"{data=}\\n{dataT=}\\n{value=}\")"
   ]
  },
  {
   "cell_type": "markdown",
   "metadata": {},
   "source": [
    "Exercise 14: Update the value of data at index [1, 1] to 100\n",
    "Exercise 15: Add 41 to the value of data at index [0, 0]\n",
    "Exercise 16: Calculate the minimum values over axis=1 and assign it to mins"
   ]
  },
  {
   "cell_type": "code",
   "execution_count": 3,
   "metadata": {},
   "outputs": [
    {
     "name": "stdout",
     "output_type": "stream",
     "text": [
      "data=Array([[ 10,   1,  24],\n",
      "       [ 20, 100,  14]], dtype=int32)\n",
      "data=Array([[ 51,   1,  24],\n",
      "       [ 20, 100,  14]], dtype=int32)\n",
      "mins=Array([ 1, 14], dtype=int32)\n",
      "mins0=Array([20,  1, 14], dtype=int32)\n"
     ]
    }
   ],
   "source": [
    "data = data.at[1,1].set(100)\n",
    "print(f\"{data=}\")\n",
    "data = data.at[0,0].add(41)\n",
    "print(f\"{data=}\")\n",
    "mins = jnp.min(data, axis=1)\n",
    "print(f\"{mins=}\")\n",
    "mins0 = jnp.min(data, axis=0)\n",
    "print(f\"{mins0=}\")"
   ]
  },
  {
   "cell_type": "markdown",
   "metadata": {},
   "source": [
    "Exercise 17: Select the first row of values of data and assign it to data_select\n",
    "\n",
    "Exercise 18: Append the row data_select to data"
   ]
  },
  {
   "cell_type": "code",
   "execution_count": 4,
   "metadata": {},
   "outputs": [
    {
     "name": "stdout",
     "output_type": "stream",
     "text": [
      "data_select=Array([51,  1, 24], dtype=int32)\n",
      "data=Array([[ 51,   1,  24],\n",
      "       [ 20, 100,  14],\n",
      "       [ 51,   1,  24]], dtype=int32)\n"
     ]
    }
   ],
   "source": [
    "data_select = data[0,:]\n",
    "print(f\"{data_select=}\")\n",
    "data = jnp.vstack([data, data_select])\n",
    "print(f\"{data=}\")"
   ]
  },
  {
   "cell_type": "markdown",
   "metadata": {},
   "source": [
    "Exercise 19: Multiply the matrices data and dataT and assign it to data_prod\n",
    "\n",
    "Exercise 20: Convert the dtype of data_prod to float32"
   ]
  },
  {
   "cell_type": "code",
   "execution_count": 6,
   "metadata": {},
   "outputs": [
    {
     "name": "stdout",
     "output_type": "stream",
     "text": [
      "data.shape=(3, 3), dataT.shape=(3, 2)\n",
      "data_prod=Array([[1087, 1371],\n",
      "       [ 636, 2096],\n",
      "       [1087, 1371]], dtype=int32)\n",
      "data_dot=Array([[1087, 1371],\n",
      "       [ 636, 2096],\n",
      "       [1087, 1371]], dtype=int32)\n",
      "data_prod=Array([[1087., 1371.],\n",
      "       [ 636., 2096.],\n",
      "       [1087., 1371.]], dtype=float32)\n"
     ]
    }
   ],
   "source": [
    "print(f\"{data.shape=}, {dataT.shape=}\")\n",
    "data_prod = data @ dataT\n",
    "print(f\"{data_prod=}\")\n",
    "data_dot = jnp.dot(data, dataT)\n",
    "print(f\"{data_dot=}\")\n",
    "data_prod = data_prod.astype(jnp.float32)\n",
    "print(f\"{data_prod=}\")"
   ]
  },
  {
   "cell_type": "code",
   "execution_count": null,
   "metadata": {},
   "outputs": [],
   "source": []
  }
 ],
 "metadata": {
  "kernelspec": {
   "display_name": ".venv",
   "language": "python",
   "name": "python3"
  },
  "language_info": {
   "codemirror_mode": {
    "name": "ipython",
    "version": 3
   },
   "file_extension": ".py",
   "mimetype": "text/x-python",
   "name": "python",
   "nbconvert_exporter": "python",
   "pygments_lexer": "ipython3",
   "version": "3.12.3"
  }
 },
 "nbformat": 4,
 "nbformat_minor": 2
}
