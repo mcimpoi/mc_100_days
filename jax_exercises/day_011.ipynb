{
 "cells": [
  {
   "cell_type": "markdown",
   "metadata": {},
   "source": [
    "Rule of thumb:\n",
    "- static values (dtype; shape) --> print\n",
    "- dynamic (traced) array valuer --> jax.debug.print()\n",
    "\n",
    "from: https://docs.jax.dev/en/latest/debugging.html"
   ]
  },
  {
   "cell_type": "code",
   "execution_count": 19,
   "metadata": {},
   "outputs": [
    {
     "name": "stdout",
     "output_type": "stream",
     "text": [
      "x x=Traced<~float32[]>with<DynamicJaxprTrace>\n",
      "y=Traced<~float32[]>with<DynamicJaxprTrace>\n"
     ]
    }
   ],
   "source": [
    "import jax\n",
    "import jax.numpy as jnp\n",
    "\n",
    "@jax.jit\n",
    "def f(x):\n",
    "    print(f\"x {x=}\")\n",
    "    y = jnp.sin(x)\n",
    "    print(f\"{y=}\")\n",
    "    return y\n",
    "\n",
    "result = f(2.)"
   ]
  },
  {
   "cell_type": "code",
   "execution_count": 15,
   "metadata": {},
   "outputs": [
    {
     "name": "stdout",
     "output_type": "stream",
     "text": [
      "y --> 0.9092974662780762\n",
      "x --> 2.0\n"
     ]
    }
   ],
   "source": [
    "@jax.jit\n",
    "def f2(x):\n",
    "    jax.debug.print(\"x --> {x}\", x=x)\n",
    "    y = jnp.sin(x)\n",
    "    jax.debug.print(\"y --> {y}\", y=y)\n",
    "    return y\n",
    "\n",
    "result = f2(2.)"
   ]
  },
  {
   "cell_type": "code",
   "execution_count": 16,
   "metadata": {},
   "outputs": [
    {
     "name": "stdout",
     "output_type": "stream",
     "text": [
      "x --> 0.0\n",
      "x --> 1.0\n",
      "x --> 2.0\n",
      "y --> 0.0\n",
      "y --> 0.8414710164070129\n",
      "y --> 0.9092974662780762\n"
     ]
    }
   ],
   "source": [
    "xs = jnp.arange(3.)\n",
    "result = jax.vmap(f2)(xs)"
   ]
  },
  {
   "cell_type": "code",
   "execution_count": 21,
   "metadata": {},
   "outputs": [
    {
     "name": "stdout",
     "output_type": "stream",
     "text": [
      "x --> 0.0\n",
      "y --> 0.0\n",
      "x --> 1.0\n",
      "y --> 0.8414710164070129\n",
      "x --> 2.0\n",
      "y --> 0.9092974662780762\n"
     ]
    }
   ],
   "source": [
    "result = jax.lax.map(f2, xs)"
   ]
  },
  {
   "cell_type": "code",
   "execution_count": 24,
   "metadata": {},
   "outputs": [
    {
     "name": "stdout",
     "output_type": "stream",
     "text": [
      "dbg::print --> 1.0\n",
      "result --> 2.0\n"
     ]
    }
   ],
   "source": [
    "def f(x):\n",
    "    jax.debug.print(\"dbg::print --> {}\", x)\n",
    "    return x**2\n",
    "\n",
    "result = jax.grad(f)(1.)\n",
    "jax.debug.print(\"result --> {}\", result)"
   ]
  },
  {
   "cell_type": "code",
   "execution_count": 25,
   "metadata": {},
   "outputs": [
    {
     "name": "stdout",
     "output_type": "stream",
     "text": [
      "dbg:: x --> 1\n",
      "dbg:: y --> 2\n"
     ]
    },
    {
     "data": {
      "text/plain": [
       "Array(3, dtype=int32, weak_type=True)"
      ]
     },
     "execution_count": 25,
     "metadata": {},
     "output_type": "execute_result"
    }
   ],
   "source": [
    "@jax.jit\n",
    "def f(x, y):\n",
    "    jax.debug.print(\"dbg:: x --> {}\", x, ordered=True)\n",
    "    jax.debug.print(\"dbg:: y --> {}\", y, ordered=True)\n",
    "    return x + y\n",
    "\n",
    "f(1, 2)"
   ]
  },
  {
   "cell_type": "code",
   "execution_count": 26,
   "metadata": {},
   "outputs": [
    {
     "name": "stdout",
     "output_type": "stream",
     "text": [
      "Entering jdb:\n",
      "> /tmp/ipykernel_1722/3231175022.py(4)\n",
      "    @jax.jit\n",
      "    def f(x):\n",
      "        y, z = jnp.sin(x), jnp.cos(x)\n",
      "->      jax.debug.breakpoint()\n",
      "        return y * z\n",
      "    \n",
      "*** NameError: name 'll' is not defined\n",
      "Array(0.90929747, dtype=float32)\n",
      "*** SyntaxError: invalid syntax\n",
      "Array(-0.4161468, dtype=float32)\n",
      "Array(-0.4161468, dtype=float32)\n"
     ]
    },
    {
     "data": {
      "text/plain": [
       "Array(-0.37840125, dtype=float32, weak_type=True)"
      ]
     },
     "execution_count": 26,
     "metadata": {},
     "output_type": "execute_result"
    }
   ],
   "source": [
    "@jax.jit\n",
    "def f(x):\n",
    "    y, z = jnp.sin(x), jnp.cos(x)\n",
    "    jax.debug.breakpoint()\n",
    "    return y * z\n",
    "\n",
    "f(2.)"
   ]
  },
  {
   "cell_type": "code",
   "execution_count": null,
   "metadata": {},
   "outputs": [],
   "source": []
  }
 ],
 "metadata": {
  "kernelspec": {
   "display_name": ".venv",
   "language": "python",
   "name": "python3"
  },
  "language_info": {
   "codemirror_mode": {
    "name": "ipython",
    "version": 3
   },
   "file_extension": ".py",
   "mimetype": "text/x-python",
   "name": "python",
   "nbconvert_exporter": "python",
   "pygments_lexer": "ipython3",
   "version": "3.12.3"
  }
 },
 "nbformat": 4,
 "nbformat_minor": 2
}
