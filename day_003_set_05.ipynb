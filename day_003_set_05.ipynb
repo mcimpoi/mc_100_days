{
 "cells": [
  {
   "cell_type": "markdown",
   "metadata": {},
   "source": [
    "From https://github.com/vopani/jaxton/blob/main/notebooks/05_control_flows_exercises.ipynb\n",
    "\n",
    "# TODO: read Blelloch, Guy E. 1990. “Prefix Sums and Their Applications.”, Technical Report CMU-CS-90-190, School of Computer Science, Carnegie Mellon University."
   ]
  },
  {
   "cell_type": "code",
   "execution_count": 4,
   "metadata": {},
   "outputs": [],
   "source": [
    "import jax\n",
    "import jax.numpy as jnp\n",
    "from jax import lax\n"
   ]
  },
  {
   "cell_type": "code",
   "execution_count": 2,
   "metadata": {},
   "outputs": [
    {
     "data": {
      "text/plain": [
       "Array([10,  1, 24, 20, 15, 14], dtype=int32)"
      ]
     },
     "execution_count": 2,
     "metadata": {},
     "output_type": "execute_result"
    }
   ],
   "source": [
    "# prereq;\n",
    "\n",
    "## sample data\n",
    "sample_data = jnp.array([10, 1, 24, 20, 15, 14])\n",
    "sample_data\n",
    "\n",
    "\n",
    "## sample square function\n",
    "def square(x):\n",
    "    return x**2\n",
    "\n",
    "\n",
    "## sample cube function\n",
    "def cube(x):\n",
    "    return x**3\n",
    "\n",
    "\n",
    "cube(2)\n"
   ]
  },
  {
   "cell_type": "markdown",
   "metadata": {},
   "source": [
    "Exercise 41: Calculate the cumulative sum of sample_data using the associative scan operator and assign it to data_cumsum\n",
    "\n",
    "Exercise 42: Calculate the cumulative sum of sample_data in reverse order using the associative scan operator and assign it to data_cumsum_reverse"
   ]
  },
  {
   "cell_type": "code",
   "execution_count": 11,
   "metadata": {},
   "outputs": [
    {
     "name": "stdout",
     "output_type": "stream",
     "text": [
      "lax.associative_scan(jnp.add, sample_data)=Array([10, 11, 35, 55, 70, 84], dtype=int32)\n",
      "lax.associative_scan(jnp.multiply, sample_data, reverse=True)=Array([1008000,  100800,  100800,    4200,     210,      14], dtype=int32),\n",
      "data_cumsum=Array([10, 11, 35, 55, 70, 84], dtype=int32)\n",
      "data_cumsum_reverse=Array([84, 74, 73, 49, 29, 14], dtype=int32)\n"
     ]
    }
   ],
   "source": [
    "print(f\"{lax.associative_scan(jnp.add, sample_data)=}\")\n",
    "print(f\"{lax.associative_scan(jnp.multiply, sample_data, reverse=True)=},\")\n",
    "\n",
    "data_cumsum = lax.associative_scan(jnp.add, sample_data)\n",
    "print(f\"{data_cumsum=}\")\n",
    "\n",
    "data_cumsum_reverse = lax.associative_scan(jnp.add, sample_data, reverse=True)\n",
    "print(f\"{data_cumsum_reverse=}\")"
   ]
  },
  {
   "cell_type": "code",
   "execution_count": null,
   "metadata": {},
   "outputs": [],
   "source": []
  }
 ],
 "metadata": {
  "kernelspec": {
   "display_name": ".venv",
   "language": "python",
   "name": "python3"
  },
  "language_info": {
   "codemirror_mode": {
    "name": "ipython",
    "version": 3
   },
   "file_extension": ".py",
   "mimetype": "text/x-python",
   "name": "python",
   "nbconvert_exporter": "python",
   "pygments_lexer": "ipython3",
   "version": "3.12.3"
  }
 },
 "nbformat": 4,
 "nbformat_minor": 2
}
