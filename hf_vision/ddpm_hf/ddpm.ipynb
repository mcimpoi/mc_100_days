{
 "cells": [
  {
   "cell_type": "markdown",
   "id": "754186c1",
   "metadata": {},
   "source": [
    "Following Annotated Diffusion (https://huggingface.co/blog/annotated-diffusion)"
   ]
  },
  {
   "cell_type": "code",
   "execution_count": 1,
   "id": "a1414778",
   "metadata": {},
   "outputs": [
    {
     "name": "stderr",
     "output_type": "stream",
     "text": [
      "/home/mircea/work/mc_100_days/hf_vision/.venv/lib/python3.13/site-packages/tqdm/auto.py:21: TqdmWarning: IProgress not found. Please update jupyter and ipywidgets. See https://ipywidgets.readthedocs.io/en/stable/user_install.html\n",
      "  from .autonotebook import tqdm as notebook_tqdm\n"
     ]
    }
   ],
   "source": [
    "import math\n",
    "import torch\n",
    "import requests\n",
    "\n",
    "from torch import nn, einsum\n",
    "from torch.nn import functional as F\n",
    "from einops import rearrange, reduce\n",
    "from einops.layers.torch import Rearrange\n",
    "\n",
    "from inspect import isfunction\n",
    "from functools import partial\n",
    "\n",
    "%matplotlib inline\n",
    "import matplotlib.pyplot as plt\n",
    "\n",
    "from tqdm.auto import tqdm\n",
    "from PIL import Image\n",
    "\n",
    "import utils\n",
    "from visualization import plot_images"
   ]
  },
  {
   "cell_type": "code",
   "execution_count": null,
   "id": "15185e2f",
   "metadata": {},
   "outputs": [
    {
     "ename": "",
     "evalue": "",
     "output_type": "error",
     "traceback": [
      "\u001b[1;31mnotebook controller is DISPOSED. \n",
      "\u001b[1;31mView Jupyter <a href='command:jupyter.viewOutput'>log</a> for further details."
     ]
    }
   ],
   "source": [
    "url = \"http://images.cocodataset.org/val2017/000000039769.jpg\"\n",
    "image = Image.open(requests.get(url, stream=True).raw).convert(\"RGB\")\n",
    "x_start = utils.to_tensor_transform(image).unsqueeze(0)\n",
    "utils.reverse_tensor_transform(x_start.squeeze()).show()"
   ]
  },
  {
   "cell_type": "code",
   "execution_count": null,
   "id": "0dae9eed",
   "metadata": {},
   "outputs": [
    {
     "ename": "",
     "evalue": "",
     "output_type": "error",
     "traceback": [
      "\u001b[1;31mnotebook controller is DISPOSED. \n",
      "\u001b[1;31mView Jupyter <a href='command:jupyter.viewOutput'>log</a> for further details."
     ]
    }
   ],
   "source": [
    "timesteps = 300\n",
    "\n",
    "betas = utils.linear_beta_schedule(timesteps=timesteps)\n",
    "alphas = 1. - betas\n",
    "alphas_cumprod = torch.cumprod(alphas, dim=0)\n",
    "alphas_cumprod_prev = F.pad(alphas_cumprod[:-1], (1, 0), value=1.0)\n",
    "# needed in p_sample\n",
    "sqrt_recip_alphas = torch.sqrt(1.0 / alphas)\n",
    "\n",
    "\n",
    "# calculations for forward diffusion q(x_t | x_{t-1})\n",
    "sqrt_alphas_cumprod = torch.sqrt(alphas_cumprod)\n",
    "sqrt_one_minus_alphas_cumprod = torch.sqrt(1.0 - alphas_cumprod)\n",
    "\n",
    "# calculate for posterior q(x_{t-1} | x_t, x_0)\n",
    "posterior_variance = betas * (1.0 - alphas_cumprod_prev) / (1.0 - alphas_cumprod)"
   ]
  },
  {
   "cell_type": "code",
   "execution_count": null,
   "id": "a721d151",
   "metadata": {},
   "outputs": [],
   "source": [
    "noisy_img = utils.get_noisy_image(x_start, torch.tensor([20]))\n"
   ]
  },
  {
   "cell_type": "code",
   "execution_count": null,
   "id": "5f344fbb",
   "metadata": {},
   "outputs": [],
   "source": [
    "plot_images([utils.get_noisy_image(x_start=x_start, t=torch.tensor([i])) for i in range(0, 200, 40)],)"
   ]
  },
  {
   "cell_type": "code",
   "execution_count": null,
   "id": "b520bc00",
   "metadata": {},
   "outputs": [],
   "source": []
  }
 ],
 "metadata": {
  "kernelspec": {
   "display_name": "hf_vision (3.13.3)",
   "language": "python",
   "name": "python3"
  },
  "language_info": {
   "codemirror_mode": {
    "name": "ipython",
    "version": 3
   },
   "file_extension": ".py",
   "mimetype": "text/x-python",
   "name": "python",
   "nbconvert_exporter": "python",
   "pygments_lexer": "ipython3",
   "version": "3.13.3"
  }
 },
 "nbformat": 4,
 "nbformat_minor": 5
}
